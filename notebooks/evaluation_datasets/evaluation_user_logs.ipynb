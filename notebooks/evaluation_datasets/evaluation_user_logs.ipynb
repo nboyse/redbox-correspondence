{
 "cells": [
  {
   "cell_type": "markdown",
   "id": "323c7f86",
   "metadata": {},
   "source": [
    "This notebook generates an evaluation dataset based on user logs. It runs within data workspace. The evaluation dataset consists of questions and document filenames, which can be used to evaluate Redbox."
   ]
  },
  {
   "cell_type": "code",
   "execution_count": null,
   "id": "d4fd9aeb-1ea2-4b4e-b36d-0b6689f7990d",
   "metadata": {},
   "outputs": [],
   "source": [
    "from os import path, getenv\n",
    "import ast\n",
    "import pandas as pd\n",
    " \n",
    "import sqlalchemy\n",
    "\n",
    "from sqlalchemy.engine.base import Engine\n",
    "\n",
    "from sqlalchemy.sql import text as sql_text\n",
    "\n",
    "import numpy as np\n",
    " \n",
    "engine = sqlalchemy.create_engine(\"postgresql://\")\n",
    " \n",
    "def query(\n",
    "\n",
    "     sql: str = None,\n",
    "\n",
    "     dataset: str = None,\n",
    "\n",
    "     params: dict[str, str] = None,\n",
    "\n",
    "     engine: Engine = engine,\n",
    "\n",
    " ) -> pd.DataFrame:\n",
    "\n",
    "     \"\"\"Read full results set from Data Workspace based on arbitrary query.\n",
    " \n",
    "    Parameters:\n",
    "\n",
    "         sql (str): a valid Postgres-SQL query\n",
    "\n",
    "         dataset (str): specified in the format 'schema.table'\n",
    "\n",
    "         params (dict of str: str): a dictionary of parameters to format\n",
    "\n",
    "         engine (sqlalchemy.engine.base.Engine): a valid sqlalchemy engine\n",
    " \n",
    "    Returns:\n",
    "\n",
    "         A pandas dataframe read from Data Workspace\n",
    "\n",
    "     \"\"\"\n",
    "\n",
    "     with engine.connect() as conn:\n",
    "\n",
    "         if sql is None and dataset is None:\n",
    "\n",
    "             raise ValueError(\"Either sql or dataset_name args must contain a value.\")\n",
    "\n",
    "         elif sql is not None and dataset is not None:\n",
    "\n",
    "             raise ValueError(\n",
    "\n",
    "                 \"Either sql or dataset_name args must contain a value, \" \"not both.\"\n",
    "\n",
    "             )\n",
    "\n",
    "         elif sql is None:\n",
    "\n",
    "             sql = f\"SELECT * FROM {dataset};\"\n",
    "\n",
    "         return pd.read_sql(sql_text(sql), conn, params=params)\n",
    " \n"
   ]
  },
  {
   "cell_type": "markdown",
   "id": "265ae2a9",
   "metadata": {},
   "source": [
    "Extract data which contain user questions"
   ]
  },
  {
   "cell_type": "code",
   "execution_count": null,
   "id": "dbb4c885-4f12-4b3b-a455-c5dd4ace84ee",
   "metadata": {},
   "outputs": [],
   "source": [
    "df_chat_msg = query(\n",
    "\n",
    "     \"\"\"\n",
    "\n",
    "     select \n",
    "\n",
    "         * \n",
    "\n",
    "     from \n",
    "\n",
    "         dbt.redbox__chat_message_details as rb\n",
    "\n",
    "     \"\"\"\n",
    "\n",
    " )\n",
    " "
   ]
  },
  {
   "cell_type": "code",
   "execution_count": null,
   "id": "f77b4598-b2a7-4b18-84f7-32116219bec6",
   "metadata": {},
   "outputs": [],
   "source": [
    "df_chat_msg.shape"
   ]
  },
  {
   "cell_type": "markdown",
   "id": "4e1b5a25",
   "metadata": {},
   "source": [
    "Filter data to remove null or empty questions and make sure the records belong to the user (not AI response)"
   ]
  },
  {
   "cell_type": "code",
   "execution_count": null,
   "id": "b32fafac-80db-413c-9a85-d0fb47a9932d",
   "metadata": {},
   "outputs": [],
   "source": [
    "df_chat_msg_filt = df_chat_msg[(df_chat_msg.text.notnull()) & (df_chat_msg.text != '') & (df_chat_msg.role=='user')]"
   ]
  },
  {
   "cell_type": "code",
   "execution_count": null,
   "id": "2e23da57-d458-4375-8db6-e3bd74970af8",
   "metadata": {},
   "outputs": [],
   "source": [
    "df_chat_msg_filt.shape"
   ]
  },
  {
   "cell_type": "code",
   "execution_count": null,
   "id": "3db16ba1-a1ba-4d91-a657-0f84672315a5",
   "metadata": {},
   "outputs": [],
   "source": [
    "df_chat_msg_filt.columns"
   ]
  },
  {
   "cell_type": "markdown",
   "id": "a85daeb1",
   "metadata": {},
   "source": [
    "Select the columns of interest, mainly user id, message id and text (question asked by user)"
   ]
  },
  {
   "cell_type": "code",
   "execution_count": null,
   "id": "98f80b8b-3cd9-4f46-9d22-26033e3993a0",
   "metadata": {},
   "outputs": [],
   "source": [
    "df_msg_user = df_chat_msg_filt.groupby('user_id')[['message_id', 'text']].apply(lambda x: x)"
   ]
  },
  {
   "cell_type": "code",
   "execution_count": null,
   "id": "677e1c61-1b39-44bc-9617-005f81f5511d",
   "metadata": {},
   "outputs": [],
   "source": [
    "df_msg_user.reset_index(inplace=True)"
   ]
  },
  {
   "cell_type": "code",
   "execution_count": null,
   "id": "e43fa122-b383-4c03-8f06-67aebd795069",
   "metadata": {},
   "outputs": [],
   "source": [
    "df_msg_user.drop('level_1', axis=1, inplace=True)"
   ]
  },
  {
   "cell_type": "code",
   "execution_count": null,
   "id": "0be512b1-5b12-4162-9d3b-2c071b41df85",
   "metadata": {},
   "outputs": [],
   "source": [
    "df_msg_user"
   ]
  },
  {
   "cell_type": "markdown",
   "id": "ac2f8b06",
   "metadata": {},
   "source": [
    "Sample the dataset to extract a smaller dataset (to speed-up processing)"
   ]
  },
  {
   "cell_type": "code",
   "execution_count": null,
   "id": "0a70e51f-d909-467d-aed9-071abdb94ead",
   "metadata": {},
   "outputs": [],
   "source": [
    "df_msg_user_sample = df_msg_user.sample(n=141)\n",
    "df_msg_user_sample.reset_index(inplace=True)"
   ]
  },
  {
   "cell_type": "markdown",
   "id": "cc998f36",
   "metadata": {},
   "source": [
    "derive document file name by extracting other rows with same message_id's as the records with non-empty question text. This is because when we previously filtered dataset to remove empty text (question), the document filename is empty. Most likely, Redbox records document filename only when user selects the document and not when user sends a question."
   ]
  },
  {
   "cell_type": "code",
   "execution_count": null,
   "id": "aa7390ea-d751-422c-8f7d-b587c4882dfa",
   "metadata": {},
   "outputs": [],
   "source": [
    "for i in range(len(df_msg_user_sample)):\n",
    "    msg_id = df_msg_user_sample.loc[i, \"message_id\"]\n",
    "    rows_msg_id = df_chat_msg[df_chat_msg.message_id==msg_id]\n",
    "    if len(rows_msg_id) > 1:\n",
    "        doc_row = rows_msg_id[(rows_msg_id.selected_file_name.notnull()) & (rows_msg_id.selected_file_name != '')]\n",
    "        if len(doc_row) > 0:\n",
    "            doc_filename = str(doc_row['selected_file_name'].values.tolist()) #this could be multiple documents\n",
    "            df_msg_user_sample.loc[i, \"document_filename\"] = doc_filename\n",
    "        else: \n",
    "            df_msg_user_sample.loc[i, \"document_filename\"] = np.nan\n",
    "    else:\n",
    "        df_msg_user_sample.loc[i, \"document_filename\"] = np.nan\n",
    "   "
   ]
  },
  {
   "cell_type": "code",
   "execution_count": null,
   "id": "60d51631-b060-429b-af8e-3fc8e2c5cc7c",
   "metadata": {},
   "outputs": [],
   "source": [
    "df_msg_user_doc = df_msg_user_sample[df_msg_user_sample.document_filename.notnull()]"
   ]
  },
  {
   "cell_type": "code",
   "execution_count": null,
   "id": "1fe4772f-d3e4-4a0b-9b9d-a9941fdfd3bc",
   "metadata": {},
   "outputs": [],
   "source": [
    "df_msg_user_doc.reset_index(inplace=True)\n",
    "df_msg_user_doc.drop('index', axis=1, inplace=True)\n",
    "df_msg_user_doc.drop('level_0', axis=1, inplace=True)"
   ]
  },
  {
   "cell_type": "code",
   "execution_count": null,
   "id": "057e2f0f-1ff2-4165-ab3b-977e3dd3c2e2",
   "metadata": {},
   "outputs": [],
   "source": [
    "df_msg_user_doc.head()"
   ]
  },
  {
   "cell_type": "code",
   "execution_count": null,
   "id": "87d7ec0c-8c36-43a3-bc16-c2e9f14d3c71",
   "metadata": {},
   "outputs": [],
   "source": [
    "df_msg_user_doc.shape"
   ]
  },
  {
   "cell_type": "markdown",
   "id": "d48b010f",
   "metadata": {},
   "source": [
    "Extract different datasets containing email address of users"
   ]
  },
  {
   "cell_type": "code",
   "execution_count": null,
   "id": "28723bcb-9abd-469b-bb58-b028f979125e",
   "metadata": {},
   "outputs": [],
   "source": [
    "df_user_email = query(\n",
    "\n",
    "     \"\"\"\n",
    "\n",
    "     select \n",
    "\n",
    "        user_id, email\n",
    "\n",
    "     from \n",
    "\n",
    "         dbt.redbox__user_details as rb\n",
    "\n",
    "     \"\"\"\n",
    "\n",
    " )"
   ]
  },
  {
   "cell_type": "markdown",
   "id": "439ee49a",
   "metadata": {},
   "source": [
    "join the two dataset based on user id to add email as a new column"
   ]
  },
  {
   "cell_type": "code",
   "execution_count": null,
   "id": "7a275f85-2d1f-4610-8433-224b2202168a",
   "metadata": {},
   "outputs": [],
   "source": [
    "df_final = df_msg_user_doc.merge(df_user_email, left_on = 'user_id', right_on = 'user_id', how='left')"
   ]
  },
  {
   "cell_type": "markdown",
   "id": "ef7ba28b",
   "metadata": {},
   "source": [
    "contruct s3 path by concatenating email with document filename"
   ]
  },
  {
   "cell_type": "code",
   "execution_count": null,
   "id": "188caf6e-3403-48f7-ad36-1e92a23eb2fb",
   "metadata": {},
   "outputs": [],
   "source": [
    "df_final['s3_path'] =  df_final.apply(lambda x: str([x['email'] + '/' + y for y in ast.literal_eval(x['document_filename'])]), axis=1)"
   ]
  },
  {
   "cell_type": "code",
   "execution_count": null,
   "id": "3ac5e57a-d670-4cb6-8cb3-7d1515403fab",
   "metadata": {},
   "outputs": [],
   "source": [
    "df_final.head()"
   ]
  },
  {
   "cell_type": "code",
   "execution_count": null,
   "id": "3a83d224-3868-4b27-b010-97c5ec29df78",
   "metadata": {},
   "outputs": [],
   "source": [
    "df_final.shape"
   ]
  },
  {
   "cell_type": "markdown",
   "id": "44bca201",
   "metadata": {},
   "source": [
    "Save the evaluation dataset as csv file. Please make sure not to store this dataset in a non-approved system as the dataset contains user information"
   ]
  },
  {
   "cell_type": "code",
   "execution_count": null,
   "id": "87e9a0e5-dbd8-4ba3-99f9-0f359183e7e0",
   "metadata": {},
   "outputs": [],
   "source": [
    "df_final.to_csv('evaluation_dataset.csv')"
   ]
  }
 ],
 "metadata": {
  "kernelspec": {
   "display_name": "Python 3 (ipykernel)",
   "language": "python",
   "name": "python3"
  },
  "language_info": {
   "codemirror_mode": {
    "name": "ipython",
    "version": 3
   },
   "file_extension": ".py",
   "mimetype": "text/x-python",
   "name": "python",
   "nbconvert_exporter": "python",
   "pygments_lexer": "ipython3",
   "version": "3.9.18"
  }
 },
 "nbformat": 4,
 "nbformat_minor": 5
}
