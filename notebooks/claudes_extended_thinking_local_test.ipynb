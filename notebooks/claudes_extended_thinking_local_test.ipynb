{
 "cells": [
  {
   "cell_type": "code",
   "execution_count": null,
   "id": "0",
   "metadata": {},
   "outputs": [],
   "source": [
    "%load_ext dotenv\n",
    "%dotenv .env"
   ]
  },
  {
   "cell_type": "markdown",
   "id": "1",
   "metadata": {},
   "source": [
    "## Claude 3.7 Extended Thinking In Notebook - Redbox App "
   ]
  },
  {
   "cell_type": "code",
   "execution_count": null,
   "id": "2",
   "metadata": {},
   "outputs": [],
   "source": [
    "from redbox.app import Redbox\n",
    "from redbox.models.chain import RedboxQuery, RedboxState, AISettings, ChatLLMBackend\n",
    "from redbox.models.settings import Settings, get_settings\n",
    "from langchain_core.messages import AIMessage, HumanMessage, RemoveMessage\n",
    "from redbox.models.chain import (\n",
    "    AISettings,\n",
    "    MultiAgentPlan,\n",
    "    AgentTask,\n",
    "    AgentEnum,\n",
    ")\n",
    "\n",
    "from uuid import uuid4\n",
    "\n",
    "env = get_settings()\n",
    "env = env.model_copy(update={\"elastic_root_index\": 'redbox-data-integration'})\n",
    "env = env.model_copy(update={\"elastic_chunk_alias\": 'redbox-data-integration-chunk-current'})\n",
    "\n",
    "app = Redbox(env=env, debug=True)\n",
    "\n",
    "documents = [\"richie.bird@digital.trade.gov.uk/Green_Book_2022.pdf\"]\n",
    "prompt = \"What is the definition of BAU?\"\n",
    "\n",
    "q = RedboxQuery(\n",
    "        question=prompt,\n",
    "        s3_keys=documents,\n",
    "        user_uuid=uuid4(),\n",
    "        chat_history=[],\n",
    "        ai_settings=AISettings(chat_backend=ChatLLMBackend(name=\"anthropic.claude-3-7-sonnet-20250219-v1:0\", provider=\"bedrock-converse\")),\n",
    "        permitted_s3_keys=documents,\n",
    "    )\n",
    "\n",
    "state = RedboxState(\n",
    "    request=q,\n",
    "    )\n",
    "\n",
    "res = app.graph.invoke(state)"
   ]
  },
  {
   "cell_type": "markdown",
   "id": "3",
   "metadata": {},
   "source": [
    "## Claudes Extended Thinking via langchain BedRockChatConverse "
   ]
  },
  {
   "cell_type": "code",
   "execution_count": null,
   "id": "4",
   "metadata": {},
   "outputs": [],
   "source": [
    "from langchain.chat_models import init_chat_model\n",
    "\n",
    "thinking_params= {\n",
    "    \"thinking\": {\n",
    "        \"type\": \"enabled\",\n",
    "        \"budget_tokens\": 1024,\n",
    "    }\n",
    "}\n",
    "\n",
    "chat_model = init_chat_model(\n",
    "        model=\"anthropic.claude-3-7-sonnet-20250219-v1:0\",\n",
    "        model_provider=\"bedrock_converse\",\n",
    "        max_tokens=2000,\n",
    "        additional_model_request_fields=thinking_params,\n",
    "    )\n",
    "\n",
    "res = chat_model.invoke(\"Hi\")"
   ]
  },
  {
   "cell_type": "markdown",
   "id": "5",
   "metadata": {},
   "source": [
    "## Claude Extended Thinking via Boto3 Bedrock Client"
   ]
  },
  {
   "cell_type": "code",
   "execution_count": null,
   "id": "6",
   "metadata": {},
   "outputs": [],
   "source": [
    "\"\"\"\n",
    "Shows how to generate a message with Anthropic Claude (on demand).\n",
    "\"\"\"\n",
    "import boto3\n",
    "import json\n",
    "import logging\n",
    "\n",
    "from botocore.exceptions import ClientError\n",
    "\n",
    "\n",
    "logger = logging.getLogger(__name__)\n",
    "logging.basicConfig(level=logging.INFO)\n",
    "\n",
    "def generate_message(bedrock_runtime, model_id, system_prompt, messages, max_tokens):\n",
    "\n",
    "    body=json.dumps(\n",
    "        {\n",
    "            \"anthropic_version\": \"bedrock-2023-05-31\",\n",
    "            \"max_tokens\": max_tokens,\n",
    "            \"thinking\": {\n",
    "                \"type\": \"enabled\",\n",
    "                \"budget_tokens\": 1024\n",
    "            },\n",
    "            \"system\": system_prompt,\n",
    "            \"messages\": messages\n",
    "        }  \n",
    "    )  \n",
    "\n",
    "    \n",
    "    response = bedrock_runtime.invoke_model(body=body, modelId=model_id)\n",
    "    response_body = json.loads(response.get('body').read())\n",
    "   \n",
    "    return response_body\n",
    "\n",
    "\n",
    "def main():\n",
    "    \"\"\"\n",
    "    Entrypoint for Anthropic Claude message example.\n",
    "    \"\"\"\n",
    "\n",
    "    try:\n",
    "\n",
    "        bedrock_runtime = boto3.client(service_name='bedrock-runtime')\n",
    "\n",
    "        model_id = 'anthropic.claude-3-7-sonnet-20250219-v1:0'\n",
    "        system_prompt = \"Answer the user question\"\n",
    "        max_tokens = 2000\n",
    "\n",
    "        # Prompt with user turn only.\n",
    "        user_message =  {\"role\": \"user\", \"content\": \"Hello World\"}\n",
    "        messages = [user_message]\n",
    "\n",
    "        response = generate_message (bedrock_runtime, model_id, system_prompt, messages, max_tokens)\n",
    "        print(\"User turn only.\")\n",
    "        print(json.dumps(response, indent=4))\n",
    "\n",
    "\n",
    "    except ClientError as err:\n",
    "        message=err.response[\"Error\"][\"Message\"]\n",
    "        logger.error(\"A client error occurred: %s\", message)\n",
    "        print(\"A client error occured: \" +\n",
    "            format(message))\n",
    "\n",
    "if __name__ == \"__main__\":\n",
    "    main()\n",
    "\n"
   ]
  },
  {
   "cell_type": "code",
   "execution_count": null,
   "id": "7",
   "metadata": {},
   "outputs": [],
   "source": []
  }
 ],
 "metadata": {
  "kernelspec": {
   "display_name": "redbox-app-py3.12",
   "language": "python",
   "name": "python3"
  },
  "language_info": {
   "codemirror_mode": {
    "name": "ipython",
    "version": 3
   },
   "file_extension": ".py",
   "mimetype": "text/x-python",
   "name": "python",
   "nbconvert_exporter": "python",
   "pygments_lexer": "ipython3",
   "version": "3.12.7"
  }
 },
 "nbformat": 4,
 "nbformat_minor": 5
}
