{
 "cells": [
  {
   "cell_type": "code",
   "execution_count": null,
   "id": "0",
   "metadata": {},
   "outputs": [],
   "source": [
    "%load_ext dotenv\n",
    "%dotenv ../redbox/.env.test"
   ]
  },
  {
   "cell_type": "code",
   "execution_count": null,
   "id": "1",
   "metadata": {},
   "outputs": [],
   "source": [
    "from langgraph.prebuilt import create_react_agent\n",
    "from redbox.models.chain import ChatLLMBackend\n",
    "from redbox.loader.loaders import get_chat_llm\n",
    "from langchain_mcp_adapters.client import MultiServerMCPClient\n",
    "from langgraph.prebuilt import create_react_agent\n",
    "from redbox.models.settings import Settings\n",
    "\n",
    "env = Settings()\n",
    "model = get_chat_llm(ChatLLMBackend(name=\"anthropic.claude-3-sonnet-20240229-v1:0\", provider=\"bedrock\"))"
   ]
  },
  {
   "cell_type": "markdown",
   "id": "2",
   "metadata": {},
   "source": [
    "### MCP client via Streamable HTTP"
   ]
  },
  {
   "cell_type": "code",
   "execution_count": null,
   "id": "3",
   "metadata": {},
   "outputs": [],
   "source": [
    "from mcp import ClientSession\n",
    "from mcp.client.streamable_http import streamablehttp_client\n",
    "from langchain_mcp_adapters.tools import load_mcp_tools\n",
    "\n",
    "async with streamablehttp_client(\"http://localhost:1234/mcp/\") as (read, write, _):\n",
    "    async with ClientSession(read, write) as session:\n",
    "        # Initialize the connection\n",
    "        await session.initialize()\n",
    "\n",
    "        # Get tools\n",
    "        tools = await load_mcp_tools(session)\n",
    "        agent = create_react_agent(model, tools)\n",
    "        response = await agent.ainvoke({\"messages\": \"tell me about Microsoft\"})\n",
    "response"
   ]
  },
  {
   "cell_type": "code",
   "execution_count": null,
   "id": "4",
   "metadata": {},
   "outputs": [],
   "source": [
    "# using as multiple servers\n",
    "async with MultiServerMCPClient(\n",
    "    {\n",
    "        \"caddy\": {\n",
    "            \"url\": \"http://localhost:1234/mcp/\",\n",
    "            \"transport\": \"streamable_http\",\n",
    "        }\n",
    "    }\n",
    ") as client:\n",
    "    agent = create_react_agent(model, client.get_tools())\n",
    "    result = await agent.ainvoke({\"messages\": \"tell me about Microsoft\"})\n",
    "result"
   ]
  },
  {
   "cell_type": "markdown",
   "id": "5",
   "metadata": {},
   "source": [
    "### SSE"
   ]
  },
  {
   "cell_type": "markdown",
   "id": "6",
   "metadata": {},
   "source": [
    "Using Caddy MCP as a tool in react agent"
   ]
  },
  {
   "cell_type": "code",
   "execution_count": null,
   "id": "7",
   "metadata": {},
   "outputs": [],
   "source": [
    "async with MultiServerMCPClient(\n",
    "    {\n",
    "        \"caddy\": {\n",
    "            \"url\": env.caddy_mcp.url,\n",
    "            \"transport\": \"sse\",\n",
    "            \"headers\": env.caddy_mcp.secret_tokens\n",
    "        }\n",
    "    }\n",
    ") as client:\n",
    "    agent = create_react_agent(model, client.get_tools())\n",
    "    result = await agent.ainvoke({\"messages\": \"Search for grants relating to badgers.\"})"
   ]
  },
  {
   "cell_type": "markdown",
   "id": "8",
   "metadata": {},
   "source": [
    "Using Parlex MCP as a tool in react agent"
   ]
  },
  {
   "cell_type": "code",
   "execution_count": null,
   "id": "9",
   "metadata": {},
   "outputs": [],
   "source": [
    "async with MultiServerMCPClient(\n",
    "    {\n",
    "        \"parlex\": {\n",
    "            \"url\": env.parlex_mcp.url,\n",
    "            \"transport\": \"sse\",\n",
    "            \"headers\": env.parlex_mcp.secret_tokens\n",
    "        }\n",
    "    }\n",
    ") as client:\n",
    "    agent = create_react_agent(model, client.get_tools())\n",
    "    result = await agent.ainvoke({\"messages\": \"Search for Keir Starmer\"})"
   ]
  }
 ],
 "metadata": {
  "kernelspec": {
   "display_name": "redbox-root-In7wI2Lt-py3.12",
   "language": "python",
   "name": "python3"
  },
  "language_info": {
   "codemirror_mode": {
    "name": "ipython",
    "version": 3
   },
   "file_extension": ".py",
   "mimetype": "text/x-python",
   "name": "python",
   "nbconvert_exporter": "python",
   "pygments_lexer": "ipython3",
   "version": "3.12.6"
  }
 },
 "nbformat": 4,
 "nbformat_minor": 5
}
