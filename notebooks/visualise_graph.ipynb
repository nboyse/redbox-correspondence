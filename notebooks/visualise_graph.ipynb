{
 "cells": [
  {
   "cell_type": "code",
   "execution_count": null,
   "metadata": {},
   "outputs": [],
   "source": [
    "%load_ext autoreload\n",
    "%load_ext dotenv\n",
    "%dotenv -o ../tests/.env.test\n",
    "%aimport redbox\n",
    "from IPython.display import Image, display\n",
    "from langchain_core.runnables.graph import MermaidDrawMethod\n",
    "from redbox.chains.components import get_parameterised_retriever, get_all_chunks_retriever, get_metadata_retriever\n",
    "from redbox.models.settings import Settings"
   ]
  },
  {
   "cell_type": "code",
   "execution_count": null,
   "metadata": {},
   "outputs": [],
   "source": [
    "def draw_graph(app):\n",
    "    display(Image(\n",
    "        app.get_graph(xray=True).draw_mermaid_png(\n",
    "            draw_method=MermaidDrawMethod.API,\n",
    "        )\n",
    "    ))"
   ]
  },
  {
   "cell_type": "markdown",
   "metadata": {},
   "source": [
    "### Redbox chat graph"
   ]
  },
  {
   "cell_type": "code",
   "execution_count": null,
   "metadata": {},
   "outputs": [],
   "source": [
    "from redbox.graph.root import get_chat_graph\n",
    "ENV = Settings()\n",
    "app = get_chat_graph(debug=True)\n",
    "draw_graph(app)"
   ]
  },
  {
   "cell_type": "markdown",
   "metadata": {},
   "source": [
    "### Redbox search graph"
   ]
  },
  {
   "cell_type": "code",
   "execution_count": null,
   "metadata": {},
   "outputs": [],
   "source": [
    "from redbox.graph.root import get_search_graph\n",
    "ENV = Settings()\n",
    "app = get_search_graph(retriever=get_parameterised_retriever(ENV))\n",
    "draw_graph(app)"
   ]
  },
  {
   "cell_type": "markdown",
   "metadata": {},
   "source": [
    "### Redbox summarise graph"
   ]
  },
  {
   "cell_type": "code",
   "execution_count": null,
   "metadata": {},
   "outputs": [],
   "source": [
    "from redbox.graph.root import get_summarise_graph\n",
    "ENV = Settings()\n",
    "app = get_summarise_graph(all_chunks_retriever=get_all_chunks_retriever(ENV), use_as_agent=False, debug=True)\n",
    "draw_graph(app)"
   ]
  },
  {
   "cell_type": "markdown",
   "metadata": {},
   "source": [
    "### New route graph"
   ]
  },
  {
   "cell_type": "code",
   "execution_count": null,
   "metadata": {},
   "outputs": [],
   "source": [
    "from redbox.graph.root import build_new_graph\n",
    "ENV = Settings()\n",
    "multi_agent_tools = {\"Internal_Retrieval_Agent\": [],\n",
    "                     \"External_Retrieval_Agent\": []}\n",
    "app = build_new_graph(all_chunks_retriever=get_all_chunks_retriever(ENV),\n",
    "                      multi_agent_tools=multi_agent_tools, debug = True)\n",
    "draw_graph(app)"
   ]
  }
 ],
 "metadata": {
  "kernelspec": {
   "display_name": "redbox-root-In7wI2Lt-py3.12",
   "language": "python",
   "name": "python3"
  },
  "language_info": {
   "codemirror_mode": {
    "name": "ipython",
    "version": 3
   },
   "file_extension": ".py",
   "mimetype": "text/x-python",
   "name": "python",
   "nbconvert_exporter": "python",
   "pygments_lexer": "ipython3",
   "version": "3.12.6"
  }
 },
 "nbformat": 4,
 "nbformat_minor": 2
}
