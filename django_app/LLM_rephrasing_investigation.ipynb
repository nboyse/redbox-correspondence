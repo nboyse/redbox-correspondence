{
 "cells": [
  {
   "cell_type": "code",
   "execution_count": 1,
   "metadata": {},
   "outputs": [],
   "source": [
    "%load_ext dotenv\n",
    "%dotenv .env"
   ]
  },
  {
   "cell_type": "code",
   "execution_count": null,
   "metadata": {},
   "outputs": [],
   "source": [
    "from redbox.app import Redbox\n",
    "from redbox.models.settings import Settings, get_settings\n",
    "from redbox.models.chain import RedboxQuery, RedboxState, AISettings, ChatLLMBackend\n",
    "from langfuse.callback import CallbackHandler\n",
    "from uuid import uuid4\n",
    "from langchain_core.runnables.graph import MermaidDrawMethod\n",
    "import langchain"
   ]
  },
  {
   "cell_type": "code",
   "execution_count": 3,
   "metadata": {},
   "outputs": [],
   "source": [
    "def get_state(user_uuid, prompts, documents, ai_setting):\n",
    "    q = RedboxQuery(\n",
    "        question=f\"@search {prompts[-1]}\",\n",
    "        s3_keys=documents,\n",
    "        user_uuid=user_uuid,\n",
    "        chat_history=prompts[:-1],\n",
    "        ai_settings=ai_setting,\n",
    "        permitted_s3_keys=documents,\n",
    "    )\n",
    "\n",
    "    return RedboxState(\n",
    "        request=q,\n",
    "    )"
   ]
  },
  {
   "cell_type": "code",
   "execution_count": 5,
   "metadata": {},
   "outputs": [],
   "source": [
    "def run_app(app, state) -> RedboxState:\n",
    "    langfuse_handler = CallbackHandler()\n",
    "    return app.graph.invoke(state, config={\"callbacks\": [langfuse_handler]})"
   ]
  },
  {
   "cell_type": "markdown",
   "metadata": {},
   "source": [
    "env = get_settings()\n",
    "ai_setting = AISettings(chat_backend=ChatLLMBackend(name=\"anthropic.claude-3-sonnet-20240229-v1:0\", provider=\"bedrock\"))\n",
    "app = Redbox(debug=True, env=env)\n",
    "documents = ['natasha.boyse@digital.trade.gov.uk/179._Design_Council.pdf']\n",
    "user_prompt = \"How does the exposure to AI vary across different geographical areas?\"\n",
    "\n",
    "x = get_state(uuid4(), prompts = [user_prompt], documents = documents, ai_setting = ai_setting)\n",
    "result = run_app(app, x)"
   ]
  },
  {
   "cell_type": "code",
   "execution_count": null,
   "metadata": {},
   "outputs": [],
   "source": [
    "env = get_settings()\n",
    "ai_setting = AISettings(chat_backend=ChatLLMBackend(name=\"anthropic.claude-3-sonnet-20240229-v1:0\", provider=\"bedrock\"))\n",
    "app = Redbox(debug=True, env=env)\n",
    "documents = ['natasha.boyse@digital.trade.gov.uk/179._Design_Council.pdf']\n",
    "user_prompt = \"How does the exposure to AI vary across different geographical areas?\"\n",
    "\n",
    "llm_rephrased = []\n",
    "final_answer = []\n",
    "for i in range(5):\n",
    "    x = get_state(uuid4(), prompts = [user_prompt], documents = documents, ai_setting = ai_setting)\n",
    "    result = run_app(app, x)\n",
    "    llm_rephrased.append(result[\"messages\"][0].content)\n",
    "    final_answer.append(result[\"messages\"][1].content)"
   ]
  },
  {
   "cell_type": "code",
   "execution_count": null,
   "metadata": {},
   "outputs": [],
   "source": [
    "llm_rephrased[0], final_answer[0]"
   ]
  },
  {
   "cell_type": "code",
   "execution_count": null,
   "metadata": {},
   "outputs": [],
   "source": [
    "llm_rephrased[1], final_answer[1]"
   ]
  },
  {
   "cell_type": "code",
   "execution_count": null,
   "metadata": {},
   "outputs": [],
   "source": [
    "llm_rephrased[2], final_answer[2]"
   ]
  },
  {
   "cell_type": "code",
   "execution_count": null,
   "metadata": {},
   "outputs": [],
   "source": [
    "llm_rephrased[3], final_answer[3]"
   ]
  },
  {
   "cell_type": "code",
   "execution_count": null,
   "metadata": {},
   "outputs": [],
   "source": [
    "print(result[\"messages\"][1].content)"
   ]
  },
  {
   "cell_type": "code",
   "execution_count": null,
   "metadata": {},
   "outputs": [],
   "source": [
    "graph = app.graph.get_graph()\n",
    "graph.draw_mermaid_png(draw_method=MermaidDrawMethod.API, output_file_path=\"./graph.png\")"
   ]
  },
  {
   "cell_type": "code",
   "execution_count": null,
   "metadata": {},
   "outputs": [],
   "source": [
    "graph = app.graph.get_graph().nodes['p_retrieve_metadata'].data.get_graph()\n",
    "graph.draw_mermaid_png(draw_method=MermaidDrawMethod.API, output_file_path=\"./graph.png\")"
   ]
  },
  {
   "cell_type": "code",
   "execution_count": null,
   "metadata": {},
   "outputs": [],
   "source": [
    "graph = app.graph.get_graph().nodes['p_search'].data.get_graph()\n",
    "graph.draw_mermaid_png(draw_method=MermaidDrawMethod.API, output_file_path=\"./graph.png\")"
   ]
  },
  {
   "cell_type": "code",
   "execution_count": null,
   "metadata": {},
   "outputs": [],
   "source": [
    "graph = graph.nodes['s_tool'].data.get_graph()\n",
    "graph.draw_mermaid_png(draw_method=MermaidDrawMethod.API, output_file_path=\"./graph.png\")"
   ]
  }
 ],
 "metadata": {
  "kernelspec": {
   "display_name": ".venv",
   "language": "python",
   "name": "python3"
  },
  "language_info": {
   "codemirror_mode": {
    "name": "ipython",
    "version": 3
   },
   "file_extension": ".py",
   "mimetype": "text/x-python",
   "name": "python",
   "nbconvert_exporter": "python",
   "pygments_lexer": "ipython3",
   "version": "3.12.7"
  }
 },
 "nbformat": 4,
 "nbformat_minor": 2
}
